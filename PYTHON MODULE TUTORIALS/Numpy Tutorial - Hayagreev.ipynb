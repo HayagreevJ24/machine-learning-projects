{
 "cells": [
  {
   "cell_type": "markdown",
   "id": "74ab7c2a",
   "metadata": {},
   "source": [
    "# Numerical Python (numPy) tutorial "
   ]
  },
  {
   "cell_type": "markdown",
   "id": "d91693d2",
   "metadata": {},
   "source": [
    "## Introduction\n",
    "\n",
    "**numPy** is a Python library that is ubiquitous for being able to perform advanced numeric computations in calculus, linear algebra and statistics very quickly.\n",
    "\n",
    "Because of this, it is widely used in Python across many fields of work, For example: \n",
    "1. Financial computations and price data analysis \n",
    "2. Analysis of scientific material (eg: astronomical data) \n",
    "3. Mathematical simulations\n",
    "4. Most importantly - Machine learning. \n",
    "\n",
    "#### As part of this computability, numPy provides a custom class called an 'ndArray'; think of this as a SEPARATE DATA TYPE - an alternative to standard python lists."
   ]
  },
  {
   "cell_type": "markdown",
   "id": "38e5e584",
   "metadata": {},
   "source": [
    "# Getting started - importing the libraries\n",
    "\n",
    "### Python does not come preinstalled with numpy, so we have to install it with the inbuilt package manager. This can be done on Jupyter notebook as follows:"
   ]
  },
  {
   "cell_type": "code",
   "execution_count": 1,
   "id": "4c67f12c",
   "metadata": {},
   "outputs": [
    {
     "name": "stdout",
     "output_type": "stream",
     "text": [
      "Requirement already satisfied: numpy in c:\\users\\hayagreev jeyandran\\appdata\\local\\programs\\python\\python310\\lib\\site-packages (1.24.3)\n"
     ]
    },
    {
     "name": "stderr",
     "output_type": "stream",
     "text": [
      "WARNING: Ignoring invalid distribution -atplotlib (c:\\users\\hayagreev jeyandran\\appdata\\local\\programs\\python\\python310\\lib\\site-packages)\n",
      "WARNING: Ignoring invalid distribution -ip (c:\\users\\hayagreev jeyandran\\appdata\\local\\programs\\python\\python310\\lib\\site-packages)\n",
      "WARNING: Ignoring invalid distribution -atplotlib (c:\\users\\hayagreev jeyandran\\appdata\\local\\programs\\python\\python310\\lib\\site-packages)\n",
      "WARNING: Ignoring invalid distribution -ip (c:\\users\\hayagreev jeyandran\\appdata\\local\\programs\\python\\python310\\lib\\site-packages)\n"
     ]
    }
   ],
   "source": [
    "!pip install numpy\n",
    "\n",
    "# or alternatively, if you're doing this from terminal: py -m pip install numpy or just pip install numpy."
   ]
  },
  {
   "cell_type": "markdown",
   "id": "1775ce54",
   "metadata": {},
   "source": [
    "### Now that numpy is installed, we can import it and get started. The following topics are covered here: \n",
    "\n",
    "1. Creating numpy arrays.\n",
    "3. All about array shapes and resizing them.\n",
    "4. Vectorised math in numpy arrays \n",
    "5. Aggregation functions on arrays (statistical ufuncs)\n",
    "6. Random Module and other ufuncs (universal operations)\n",
    "\n",
    "**Although this is a lot of content, it will mostly be brief due to time constraints. Please use w3schools to explore further.**"
   ]
  },
  {
   "cell_type": "code",
   "execution_count": 2,
   "id": "1533c10a",
   "metadata": {},
   "outputs": [],
   "source": [
    "# Import the numpy library \n",
    "import numpy as np\n",
    "\n",
    "# The as keyword is used for easier access and is often done."
   ]
  },
  {
   "cell_type": "markdown",
   "id": "301f2155",
   "metadata": {},
   "source": [
    "# (a) Creating numpy arrays"
   ]
  },
  {
   "cell_type": "code",
   "execution_count": 9,
   "id": "da0e8e35",
   "metadata": {},
   "outputs": [
    {
     "data": {
      "text/plain": [
       "array([1, 2, 3, 4, 5], dtype=int32)"
      ]
     },
     "execution_count": 9,
     "metadata": {},
     "output_type": "execute_result"
    }
   ],
   "source": [
    "# Creating arrays from python lists \n",
    "myList = [1, 2, 3, 4, 5]\n",
    "\n",
    "numpyArray1 = np.array([1, 2, 3, 4, 5], dtype=\"i\") # Note that dtype is not needed and will automatically be set.\n",
    "numpyArray1"
   ]
  },
  {
   "cell_type": "code",
   "execution_count": 31,
   "id": "623e6b4d",
   "metadata": {},
   "outputs": [
    {
     "name": "stdout",
     "output_type": "stream",
     "text": [
      "Array made using np.arange:  [0 1 2 3 4 5 6 7 8 9]\n",
      "Array made using np.linspace:  [ 1.    3.25  5.5   7.75 10.  ]\n",
      "Array made using np.zeros:  [0. 0. 0. 0. 0.]\n",
      "Array made using np.ones:  [1. 1. 1. 1. 1.]\n",
      "Array made using np.empty:  [1. 1. 1. 1. 1.]\n"
     ]
    }
   ],
   "source": [
    "# Creating numpy arrays from inbuilt commands\n",
    "\n",
    "numpyArray2 = np.arange(0, 10) # Equivalent: [i for i in range(0, 10)]\n",
    "\n",
    "print(\"Array made using np.arange: \", numpyArray2) \n",
    "\n",
    "#~~~~~~~~~~~~~~~~~~~~~~~~~~~~~~~~~~~~~~~~~~~~~~~~~~~~~~~~~~~~~~~~~~~~~~~~~~~~~~~~~~~~~~~~~~~~~~~~~~~~~~~~~~~~~~~~~~~~~~~~~~~\n",
    "\n",
    "\n",
    "numpyArray3 = np.linspace(1, 10, 5) # No straightforward inbuilt equivalent: will need multiple lines of code.\n",
    "\n",
    "print(\"Array made using np.linspace: \", numpyArray3)\n",
    "\n",
    "#~~~~~~~~~~~~~~~~~~~~~~~~~~~~~~~~~~~~~~~~~~~~~~~~~~~~~~~~~~~~~~~~~~~~~~~~~~~~~~~~~~~~~~~~~~~~~~~~~~~~~~~~~~~~~~~~~~~~~~~~~~~\n",
    "\n",
    "\n",
    "\n",
    "numpyArray4 = np.zeros(5) # Alternative: [0] * 5\n",
    "numpyArray5 = np.ones(5)  # Alternative: [0] * 5\n",
    "numpyArray6 = np.empty(5) # Used when you don't know what is going in an array.\n",
    "\n",
    "print(\"Array made using np.zeros: \", numpyArray4)\n",
    "print(\"Array made using np.ones: \", numpyArray5)\n",
    "print(\"Array made using np.empty: \", numpyArray6)\n"
   ]
  },
  {
   "cell_type": "markdown",
   "id": "bf677a3e",
   "metadata": {},
   "source": [
    "# (b) Array shapes and dimensions in numpy\n",
    "\n",
    "### In Numpy, arrays are treated as 'vectors' or 'matrices' and have a shape associated with them expressed as a ordered list of numbers. \n",
    "\n",
    "For example: (1, 5) would mean that we have a 2d array with 1 row and 5 columns. \n",
    "\n",
    "(5) OR (5, ) would mean that we have a 1d array with 5 elements. \n",
    "\n",
    "(1920, 1680, 1) could represent a full HD image with RGB color. "
   ]
  },
  {
   "cell_type": "code",
   "execution_count": 51,
   "id": "516350cf",
   "metadata": {},
   "outputs": [
    {
     "name": "stdout",
     "output_type": "stream",
     "text": [
      "Shape of [1, 2, 3, 4, 5] is  (5,)\n",
      "Shape of [[1, 2, 3], [4, 5, 6], [7, 8, 9]] is  (3, 3)\n"
     ]
    }
   ],
   "source": [
    "numpyArray7 = np.array([1, 2, 3, 4, 5])\n",
    "\n",
    "\n",
    "print(\"Shape of [1, 2, 3, 4, 5] is \", numpyArray7.shape)\n",
    "\n",
    "#~~~~~~~~~~~~~~~~~~~~~~~~~~~~~~~~~~~~~~~~~~~~~~~~~~~~~~~~~~~~~~~~~~~~~~~~~~~~~~~~~~~~~~~~~~~~~~~~~~~~~~~~~~~~~~~~~~~~~~~~~~~\n",
    "\n",
    "\n",
    "numpyArray8 = np.array([\n",
    "    [1, 2, 3],\n",
    "    [4, 5, 6],\n",
    "    [7, 8, 9]])\n",
    "\n",
    "\n",
    "print(\"Shape of [[1, 2, 3], [4, 5, 6], [7, 8, 9]] is \", numpyArray8.shape)\n"
   ]
  },
  {
   "cell_type": "markdown",
   "id": "2543dbb4",
   "metadata": {},
   "source": [
    "## Reshaping arrays in numpy\n"
   ]
  },
  {
   "cell_type": "code",
   "execution_count": 53,
   "id": "fa3b662b",
   "metadata": {},
   "outputs": [
    {
     "name": "stdout",
     "output_type": "stream",
     "text": [
      "The 2D array from before when reshaped with (9) is:  [1 2 3 4 5 6 7 8 9]\n",
      "[[1 2 3]\n",
      " [4 5 6]\n",
      " [7 8 9]]\n"
     ]
    }
   ],
   "source": [
    "numpyArray8_copy1 = numpyArray8.reshape(9)\n",
    "\n",
    "print(\"The 2D array from before when reshaped with (9) is: \", numpyArray8_copy1)"
   ]
  },
  {
   "cell_type": "code",
   "execution_count": 56,
   "id": "28f00290",
   "metadata": {},
   "outputs": [
    {
     "name": "stdout",
     "output_type": "stream",
     "text": [
      "The 2D array from before when reshaped with (-1, 1) is:  [[1]\n",
      " [2]\n",
      " [3]\n",
      " [4]\n",
      " [5]\n",
      " [6]\n",
      " [7]\n",
      " [8]\n",
      " [9]]\n"
     ]
    }
   ],
   "source": [
    "numpyArray8_copy2 = numpyArray8_copy1.reshape(-1, 1) \n",
    "print(\"The 2D array from before when reshaped with (-1, 1) is: \", numpyArray8_copy2)\n",
    "\n",
    "# (-1, 1) means that the array will be converted into a 2D array of n rows and 1 column, where n = len(original array)"
   ]
  },
  {
   "cell_type": "code",
   "execution_count": 59,
   "id": "043e1f09",
   "metadata": {},
   "outputs": [
    {
     "name": "stdout",
     "output_type": "stream",
     "text": [
      "The 2D array from before when reshaped with (1, -1) is:  [[1 2 3 4 5 6 7 8 9]]\n"
     ]
    }
   ],
   "source": [
    "numpyArray8_copy3 = numpyArray8_copy1.reshape(1, -1) \n",
    "print(\"The 2D array from before when reshaped with (1, -1) is: \", numpyArray8_copy3)\n",
    "\n",
    "# (1, -1) means that the array will be converted into a 2D array of 1 row and n columns, where n = len(original array)\n"
   ]
  },
  {
   "cell_type": "markdown",
   "id": "c2e3d702",
   "metadata": {},
   "source": [
    "## Combining arrays in numpy\n",
    "\n",
    "We can 'stack arrays in numpy' - This is very important to process data for predictive analysis. I'll do this with an exmaple. \n"
   ]
  },
  {
   "cell_type": "code",
   "execution_count": 70,
   "id": "62aaf9d0",
   "metadata": {},
   "outputs": [
    {
     "name": "stdout",
     "output_type": "stream",
     "text": [
      "Patient 1: [97.6 98.8 96.6 99.8] \n",
      "Patient 2:  [ 96.8  99.7 101.4 100.3]\n",
      "Vertically stacked values: \n",
      " [[ 97.6  98.8  96.6  99.8]\n",
      " [ 96.8  99.7 101.4 100.3]]\n",
      "Horizontally stacked values: \n",
      " [ 97.6  98.8  96.6  99.8  96.8  99.7 101.4 100.3]\n"
     ]
    }
   ],
   "source": [
    "patient1 = np.array([97.6, 98.8, 96.6, 99.8])\n",
    "patient2 = np.array([96.8, 99.7, 101.4, 100.3])\n",
    "\n",
    "combinedPatient_vertical = np.vstack((patient1, patient2))\n",
    "combinedPatient_horizontal = np.hstack((patient1, patient2))\n",
    " # NOTE HOW THE PARAMETER IS AN ORDERED TUPLE ((ARR1, ARR2)), NOT (ARR1, ARR2)\n",
    "    \n",
    "\n",
    "print(\"Patient 1:\", patient1,\"\\nPatient 2: \", patient2)\n",
    "print(\"Vertically stacked values: \\n\", combinedPatient_vertical)\n",
    "\n",
    "print(\"Horizontally stacked values: \\n\", combinedPatient_horizontal)"
   ]
  },
  {
   "cell_type": "markdown",
   "id": "0889e7ea",
   "metadata": {},
   "source": [
    "# (d) Vectorised operations in numPy arrays \n",
    "\n",
    "Numpy uses a concept called vectorisation, where you can modify all the elements at once with parallel processing. MUCH, MUCH FASTER THAN USING A FOR LOOP. "
   ]
  },
  {
   "cell_type": "code",
   "execution_count": 74,
   "id": "e6eb5284",
   "metadata": {},
   "outputs": [
    {
     "name": "stdout",
     "output_type": "stream",
     "text": [
      "Result of adding [1, 2, 3, 4, 5] to [1, 2, 3, 4, 5] is  [ 2  4  6  8 10]\n"
     ]
    }
   ],
   "source": [
    "# Adding two arrays\n",
    "\n",
    "numpyArray9 = np.array([1, 2, 3, 4, 5])\n",
    "numpyArray10 = np.array([1, 2, 3, 4, 5])\n",
    "\n",
    "print(\"Result of adding [1, 2, 3, 4, 5] to [1, 2, 3, 4, 5] is \", numpyArray9 + numpyArray10)"
   ]
  },
  {
   "cell_type": "code",
   "execution_count": 75,
   "id": "c7ea5d99",
   "metadata": {},
   "outputs": [
    {
     "name": "stdout",
     "output_type": "stream",
     "text": [
      "Result of multiplying [1, 2, 3, 4, 5] to 5 is  [ 5 10 15 20 25]\n"
     ]
    }
   ],
   "source": [
    "# Multiplying an array with a scalar\n",
    "\n",
    "print(\"Result of multiplying [1, 2, 3, 4, 5] to 5 is \", numpyArray10 * 5 )"
   ]
  },
  {
   "cell_type": "markdown",
   "id": "488b14c8",
   "metadata": {},
   "source": [
    "# (e) Aggregation functions in numPy arrays (statistical ufuncs)\n"
   ]
  },
  {
   "cell_type": "code",
   "execution_count": 83,
   "id": "4310a3c2",
   "metadata": {},
   "outputs": [
    {
     "name": "stdout",
     "output_type": "stream",
     "text": [
      "Array: [  0.  10.  20.  30.  40.  50.  60.  70.  80.  90. 100.]\n",
      "Average: 50.0\n",
      "Standard Deviation: 31.622776601683793\n",
      "Median: 50.0\n",
      "Maximum: 100.0\n",
      "Minimum: 0.0\n"
     ]
    }
   ],
   "source": [
    "numpyArray11 = np.linspace(0, 100, 11)\n",
    "mean11 = np.mean(numpyArray11)\n",
    "std11 = np.std(numpyArray11)\n",
    "median11 = np.median(numpyArray11)\n",
    "max11 = np.max(numpyArray11)\n",
    "min11 = np.min(numpyArray11)\n",
    "\n",
    "print(\"Array:\", numpyArray11)\n",
    "print(\"Average:\", mean11)\n",
    "print(\"Standard Deviation:\", std11)\n",
    "print(\"Median:\", median11)\n",
    "print(\"Maximum:\", max11)\n",
    "print(\"Minimum:\", min11)"
   ]
  },
  {
   "cell_type": "markdown",
   "id": "14e60484",
   "metadata": {},
   "source": [
    "# (f) numPy random Module and other Ufuncs\n",
    "\n",
    "### The random module in numPy \n",
    "numpy's random module is an alternative to the inbuilt random module that is better suited to handling large arrays and provides more functionality, including generation of numbers from a specific type of probability distribution. \n",
    "\n"
   ]
  },
  {
   "cell_type": "code",
   "execution_count": 113,
   "id": "4c5b2164",
   "metadata": {},
   "outputs": [
    {
     "name": "stdout",
     "output_type": "stream",
     "text": [
      "This is random array 1: [0.84528311 0.41526442 0.60489633 0.14493699 0.93084438]\n",
      "\n",
      "\n",
      "This is random array 2:\n",
      " [[0.00954775 0.38397322 0.08201738]\n",
      " [0.47693541 0.45644771 0.31032024]\n",
      " [0.49785638 0.97379111 0.63276562]]\n",
      "\n",
      "\n",
      "This is random number 1: 0.5746521214806415\n",
      "This is randomIntegerArray1:  [85 19 83 77 40 37 35 40 66 62]\n"
     ]
    }
   ],
   "source": [
    "# This produces an output array whose dimensions can be specified. If the dimensions are left empty, then it will return a single number. \n",
    "\n",
    "randomArray1 = np.random.rand(5); print(\"This is random array 1:\", randomArray1)\n",
    "randomArray2 = np.random.rand(3, 3); print(\"\\n\\nThis is random array 2:\\n\", randomArray2)\n",
    "randomNumber1 = np.random.rand(); print(\"\\n\\nThis is random number 1:\", randomNumber1)\n",
    "\n",
    "\n",
    "randomIntegerArray1 = np.random.randint(0, 100, size=10); print(\"This is randomIntegerArray1: \", randomIntegerArray1)\n",
    "# Notice that size is the third parameter her. randint needs upper and lower bounds first unlike rand. \n"
   ]
  },
  {
   "cell_type": "markdown",
   "id": "f248e289",
   "metadata": {},
   "source": [
    "### Simulating the functionality of np.random.choice using a dice\n",
    "\n",
    "\n",
    "np.random.choice() is used to draw values at random from an array, like spinning a dice. \n",
    "You can specify a parameter p in the function which will draw values with specific probabilities"
   ]
  },
  {
   "cell_type": "code",
   "execution_count": 105,
   "id": "ae7f1a70",
   "metadata": {},
   "outputs": [
    {
     "data": {
      "image/png": "[encoded data removed]",
      "text/plain": [
       "<Figure size 432x288 with 1 Axes>"
      ]
     },
     "metadata": {
      "needs_background": "light"
     },
     "output_type": "display_data"
    }
   ],
   "source": [
    "import matplotlib.pyplot as plt\n",
    "\n",
    "# PLEASE FOCUS ON THE USE OF NP.RANDOM.CHOICE AND LEAVE MATPLOTLIB OUT. \n",
    "\n",
    "def loadedDiceMethod(x: list, n: int, p: list):\n",
    "    rollf = np.array([np.random.choice(x, p=p) for _ in range(n)])\n",
    "\n",
    "    distinctRolls = np.array(list(set(rollf)))\n",
    "    distinctRollsCount = np.array([0 for i in range(len(distinctRolls))])\n",
    "    for i in range(len(distinctRolls)):\n",
    "        for x in rollf:\n",
    "            if x == distinctRolls[i]:\n",
    "                distinctRollsCount[i] += 1\n",
    "\n",
    "    plt.bar(distinctRolls, distinctRollsCount)\n",
    "    plt.xlabel('Number on dice')\n",
    "    plt.ylabel('Number of rolls')\n",
    "    plt.show()\n",
    "\n",
    "\n",
    "x = np.arange(1, 7, 1)\n",
    "p = np.array([1 / 6 for i in range(6)])  # This is an unbiased dice - each probability is the same\n",
    "n = 100000\n",
    "\n",
    "loadedDiceMethod(x, n, p)"
   ]
  },
  {
   "cell_type": "code",
   "execution_count": 109,
   "id": "ccc9585d",
   "metadata": {},
   "outputs": [
    {
     "data": {
      "image/png": "[encoded data removed]",
      "text/plain": [
       "<Figure size 432x288 with 1 Axes>"
      ]
     },
     "metadata": {
      "needs_background": "light"
     },
     "output_type": "display_data"
    }
   ],
   "source": [
    "# Notice what happens when we make the dice biased by making a custom probability parameter like so: \n",
    "\n",
    "p = np.array([0.65, 0.10, 0.10, 0.05, 0.05, 0.05])\n",
    "loadedDiceMethod(x, n, p)"
   ]
  },
  {
   "cell_type": "markdown",
   "id": "b3375bbe",
   "metadata": {},
   "source": [
    "## Some other ufuncs in numpy \n",
    "\n",
    "ufuncs stands for **universal functions** that are general mathematical computational functions that do not pertain to arrays. \n",
    "We looked at statistical universal functions like mean, median etc. Now we will look at some other ufuncs."
   ]
  },
  {
   "cell_type": "code",
   "execution_count": 116,
   "id": "a696f511",
   "metadata": {},
   "outputs": [
    {
     "name": "stdout",
     "output_type": "stream",
     "text": [
      "e to the power of 56 is 2.091659496012996e+24\n",
      "Natural log of 56 is 4.02535169073515\n",
      "log base 10 of 1000 is 3.0\n",
      "Sin 30 is 0.49999999999999994\n",
      "Cos 60 is 0.5000000000000001\n"
     ]
    }
   ],
   "source": [
    "myNumber = np.random.randint(1, 100)\n",
    "myNumber2 = 1000\n",
    "print(\"e to the power of\", myNumber, \"is\", np.exp(myNumber))\n",
    "print(\"Natural log of\", myNumber, \"is\", np.log(myNumber))\n",
    "print(\"log base 10 of\", myNumber2, \"is\", np.log10(myNumber2))\n",
    "\n",
    "print(\"Sin 30 is\", np.sin(np.radians(30)))\n",
    "print(\"Cos 60 is\", np.cos(np.radians(60)))"
   ]
  },
  {
   "cell_type": "markdown",
   "id": "74f14d6a",
   "metadata": {},
   "source": [
    "## That's the end. Do note that this is not all that numpy does. Mentioning everything will take up a good few days. Here are a few links for you to explore: \n",
    "\n",
    "https://www.w3schools.com/python/numpy/default.asp"
   ]
  },
  {
   "cell_type": "markdown",
   "id": "b2d44722",
   "metadata": {},
   "source": [
    "## Happy coding!\n",
    "\n",
    "(Hayagreev Jeyandran, AS Level)"
   ]
  },
  {
   "cell_type": "code",
   "execution_count": null,
   "id": "e8f323d0",
   "metadata": {},
   "outputs": [],
   "source": []
  }
 ],
 "metadata": {
  "kernelspec": {
   "display_name": "Python 3 (ipykernel)",
   "language": "python",
   "name": "python3"
  },
  "language_info": {
   "codemirror_mode": {
    "name": "ipython",
    "version": 3
   },
   "file_extension": ".py",
   "mimetype": "text/x-python",
   "name": "python",
   "nbconvert_exporter": "python",
   "pygments_lexer": "ipython3",
   "version": "3.10.4"
  }
 },
 "nbformat": 4,
 "nbformat_minor": 5
}
